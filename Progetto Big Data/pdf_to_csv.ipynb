{
 "cells": [
  {
   "cell_type": "code",
   "execution_count": null,
   "id": "cb39eddd",
   "metadata": {},
   "outputs": [],
   "source": []
  },
  {
   "cell_type": "markdown",
   "id": "bed4aa83",
   "metadata": {},
   "source": [
    "Con questo codice si trasferisce il da file pdf a csv il file di domande di nostro interesse"
   ]
  },
  {
   "cell_type": "code",
   "execution_count": null,
   "id": "2024c93c",
   "metadata": {},
   "outputs": [],
   "source": [
    "from PyPDF2 import PdfReader\n",
    "\n",
    "pdf_path = \"Area_Pre_Clinica_2016.pdf\"\n",
    "reader = PdfReader(pdf_path)\n",
    "\n",
    "full_text = \"\"\n",
    "for page in reader.pages:\n",
    "    full_text += page.extract_text() + \"\\n\"\n"
   ]
  },
  {
   "cell_type": "code",
   "execution_count": null,
   "id": "12c63958",
   "metadata": {},
   "outputs": [],
   "source": [
    "import re\n",
    "\n",
    "question_pattern = re.compile(\n",
    "    r\"(?P<id>\\d{1,4})\\.\\s+(?P<question>.+?)\\s+A(?P<correct_a>\\*)?\\s(?P<A>.+?)\\s+\"\n",
    "    r\"B(?P<correct_b>\\*)?\\s(?P<B>.+?)\\s+\"\n",
    "    r\"C(?P<correct_c>\\*)?\\s(?P<C>.+?)\\s+\"\n",
    "    r\"D(?P<correct_d>\\*)?\\s(?P<D>.+?)\\s+\"\n",
    "    r\"E(?P<correct_e>\\*)?\\s(?P<E>.+?)(?=\\n\\d+\\.|\\Z)\",\n",
    "    re.DOTALL\n",
    ")\n"
   ]
  },
  {
   "cell_type": "code",
   "execution_count": null,
   "id": "d7a7467f",
   "metadata": {},
   "outputs": [],
   "source": [
    "def macro_category_from_id(qid: int) -> str:\n",
    "    if 1 <= qid <= 395:\n",
    "        return \"farmacologia\"\n",
    "    elif 396 <= qid <= 1564:\n",
    "        return \"fisiologia\"\n",
    "    elif 1565 <= qid <= 1907:\n",
    "        return \"morfologia\"\n",
    "    elif 1908 <= qid <= 2822:\n",
    "        return \"patologia\"\n",
    "    elif 2823 <= qid <= 3344:\n",
    "        return \"prevenzione e deontologia medica\"\n",
    "    else:\n",
    "        return \"\"\n"
   ]
  },
  {
   "cell_type": "code",
   "execution_count": null,
   "id": "88b744ae",
   "metadata": {},
   "outputs": [],
   "source": [
    "questions = []\n",
    "for match in question_pattern.finditer(full_text):\n",
    "    qid = int(match.group(\"id\"))\n",
    "    correct = \"\"\n",
    "    for letter in \"abcde\":\n",
    "        if match.group(f\"correct_{letter}\"):\n",
    "            correct = letter.upper()\n",
    "            break\n",
    "\n",
    "    questions.append({\n",
    "        \"id\": qid,\n",
    "        \"question\": match.group(\"question\").strip().replace(\"\\n\", \" \"),\n",
    "        \"A\": match.group(\"A\").strip().replace(\"\\n\", \" \"),\n",
    "        \"B\": match.group(\"B\").strip().replace(\"\\n\", \" \"),\n",
    "        \"C\": match.group(\"C\").strip().replace(\"\\n\", \" \"),\n",
    "        \"D\": match.group(\"D\").strip().replace(\"\\n\", \" \"),\n",
    "        \"E\": match.group(\"E\").strip().replace(\"\\n\", \" \"),\n",
    "        \"answer\": correct,\n",
    "        \"category\": \"Area Preclinica 2016\",\n",
    "        \"macro category\": macro_category_from_id(qid)\n",
    "    })\n"
   ]
  },
  {
   "cell_type": "code",
   "execution_count": null,
   "id": "0aac03b4",
   "metadata": {},
   "outputs": [],
   "source": [
    "import csv\n",
    "\n",
    "with open(\"area_preclinica_2016_domande.csv\", \"w\", newline=\"\", encoding=\"utf-8\") as f:\n",
    "    writer = csv.DictWriter(f, fieldnames=questions[0].keys())\n",
    "    writer.writeheader()\n",
    "    writer.writerows(questions)\n"
   ]
  },
  {
   "cell_type": "code",
   "execution_count": null,
   "id": "0026d43f",
   "metadata": {},
   "outputs": [],
   "source": [
    "# Confrontiamo automaticamente le prime 20 domande tra PDF (testo estratto) e CSV\n",
    "\n",
    "# Estrarre le prime 20 domande dal CSV\n",
    "df_sample = df.head(20).copy()\n",
    "\n",
    "# Estrarre lo stesso testo dal PDF già precedentemente letto\n",
    "# Spezziamo le domande dal testo intero PDF (già caricato in `full_text`)\n",
    "pdf_questions_raw = question_pattern.findall(full_text)\n",
    "\n",
    "# Mappiamo l'output del PDF in un dizionario per confronto\n",
    "pdf_data_map = {}\n",
    "for q in pdf_questions_raw:\n",
    "    qid = int(q[0])\n",
    "    pdf_data_map[qid] = {\n",
    "        \"question\": q[1].strip().replace(\"\\n\", \" \"),\n",
    "        \"A\": q[3].strip().replace(\"\\n\", \" \"),\n",
    "        \"B\": q[5].strip().replace(\"\\n\", \" \"),\n",
    "        \"C\": q[7].strip().replace(\"\\n\", \" \"),\n",
    "        \"D\": q[9].strip().replace(\"\\n\", \" \"),\n",
    "        \"E\": q[11].strip().replace(\"\\n\", \" \"),\n",
    "    }\n",
    "\n",
    "# Confronta le prime 20 domande\n",
    "differenze = []\n",
    "for _, row in df_sample.iterrows():\n",
    "    qid = row[\"id\"]\n",
    "    pdf_entry = pdf_data_map.get(qid)\n",
    "    if not pdf_entry:\n",
    "        continue\n",
    "\n",
    "    diffs = {}\n",
    "    for key in [\"question\", \"A\", \"B\", \"C\", \"D\", \"E\"]:\n",
    "        csv_text = str(row[key]).strip()\n",
    "        pdf_text = str(pdf_entry[key]).strip()\n",
    "        if csv_text != pdf_text:\n",
    "            diffs[key] = {\"csv\": csv_text, \"pdf\": pdf_text}\n",
    "    \n",
    "    if diffs:\n",
    "        differenze.append({\"id\": qid, \"diffs\": diffs})\n",
    "\n",
    "# Mostriamo le prime 3 differenze trovate\n",
    "differenze[:3]\n"
   ]
  }
 ],
 "metadata": {
  "language_info": {
   "name": "python"
  }
 },
 "nbformat": 4,
 "nbformat_minor": 5
}
